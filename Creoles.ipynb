{
  "nbformat": 4,
  "nbformat_minor": 0,
  "metadata": {
    "colab": {
      "provenance": []
    },
    "kernelspec": {
      "name": "python3",
      "display_name": "Python 3"
    },
    "language_info": {
      "name": "python"
    }
  },
  "cells": [
    {
      "cell_type": "markdown",
      "source": [],
      "metadata": {
        "id": "7J5UtfHYGB1G"
      }
    },
    {
      "cell_type": "markdown",
      "source": [
        "## **17. Dialectology and Creoles**\n",
        "\n",
        "### **Dialectology**\n",
        "A **dialect** is not to be confused with an **accent**. The first term incorporates specific syntax and vocabulary, while the latter only refers to the means of pronouncation.\n",
        "\n",
        "### **Dialect boundary**\n",
        "An **isogloss** is an imaginary line that one could draw across the map and a one that would serve as a boundary between the regions in which a specific dialect is being used. The article uses the example of Faroe and German accents.\n",
        "\n",
        "### **Diglossia**\n",
        "A **diglossia** happens, when a person uses (simultaneously or intercheangeably) two different varieties of a language or two seperate languages. This may be the case if a language has a distinction of a formal and informal forms.\n",
        "\n",
        "### **Creoles**\n",
        "At first, there is a **pidgin** - a language that is technically a combination of features of different natural languages. It develops as the speakers of different language attempt at communicating with each other while using their respective mother tongues. The descendants of the users of a pidgin speak a **creole** - a legit language being a more developed version of a pidgin. The more complicated a creole becomes, the more it starts to evolve towards a normal language.\n",
        "Creoles are known to operate on a very basic and simplified rules.\n",
        "\n",
        "### **Mixed languages**\n",
        "Creoles are not to be confused with the **mixed languages**."
      ],
      "metadata": {
        "id": "wVu6xw4pGHOE"
      }
    }
  ]
}
